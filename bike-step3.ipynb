{
 "cells": [
  {
   "cell_type": "code",
   "execution_count": 95,
   "metadata": {
    "collapsed": false
   },
   "outputs": [],
   "source": [
    "import pandas as pd\n",
    "import numpy as np\n",
    "import matplotlib.pyplot as plt\n",
    "from pandas import Series, DataFrame\n",
    "from sklearn.linear_model import LinearRegression\n",
    "from sklearn import linear_model\n",
    "from sklearn.metrics import r2_score\n",
    "from sklearn.cross_validation import train_test_split\n",
    "from sklearn.linear_model import Lasso, LinearRegression\n",
    "%matplotlib inline"
   ]
  },
  {
   "cell_type": "code",
   "execution_count": 96,
   "metadata": {
    "collapsed": false
   },
   "outputs": [],
   "source": [
    "weather = pd.read_table('daily_weather.tsv')\n",
    "usage = pd.read_table('usage_2012.tsv')\n",
    "stations = pd.read_table('stations.tsv')"
   ]
  },
  {
   "cell_type": "markdown",
   "metadata": {},
   "source": [
    "1. To start with, we'll need to compute the number of rentals per station per day. Use pandas to do that."
   ]
  },
  {
   "cell_type": "code",
   "execution_count": 97,
   "metadata": {
    "collapsed": false
   },
   "outputs": [],
   "source": [
    "station_counts = usage.groupby('station_start')['station_start'].count()\n",
    "station_rentals_per_day = DataFrame()\n",
    "station_rentals_per_day['rentals'] = station_counts.values / 366.0\n",
    "station_rentals_per_day['station'] = station_counts.index\n"
   ]
  },
  {
   "cell_type": "code",
   "execution_count": 98,
   "metadata": {
    "collapsed": false
   },
   "outputs": [
    {
     "data": {
      "text/html": [
       "<div>\n",
       "<table border=\"1\" class=\"dataframe\">\n",
       "  <thead>\n",
       "    <tr style=\"text-align: right;\">\n",
       "      <th></th>\n",
       "      <th>rentals</th>\n",
       "      <th>station</th>\n",
       "    </tr>\n",
       "  </thead>\n",
       "  <tbody>\n",
       "    <tr>\n",
       "      <th>0</th>\n",
       "      <td>17.289617</td>\n",
       "      <td>10th &amp; E St NW</td>\n",
       "    </tr>\n",
       "    <tr>\n",
       "      <th>1</th>\n",
       "      <td>10.418033</td>\n",
       "      <td>10th &amp; Monroe St NE</td>\n",
       "    </tr>\n",
       "    <tr>\n",
       "      <th>2</th>\n",
       "      <td>71.243169</td>\n",
       "      <td>10th &amp; U St NW</td>\n",
       "    </tr>\n",
       "    <tr>\n",
       "      <th>3</th>\n",
       "      <td>55.773224</td>\n",
       "      <td>10th St &amp; Constitution Ave NW</td>\n",
       "    </tr>\n",
       "    <tr>\n",
       "      <th>4</th>\n",
       "      <td>35.185792</td>\n",
       "      <td>11th &amp; H St NE</td>\n",
       "    </tr>\n",
       "  </tbody>\n",
       "</table>\n",
       "</div>"
      ],
      "text/plain": [
       "     rentals                        station\n",
       "0  17.289617                 10th & E St NW\n",
       "1  10.418033            10th & Monroe St NE\n",
       "2  71.243169                 10th & U St NW\n",
       "3  55.773224  10th St & Constitution Ave NW\n",
       "4  35.185792                 11th & H St NE"
      ]
     },
     "execution_count": 98,
     "metadata": {},
     "output_type": "execute_result"
    }
   ],
   "source": [
    "station_rentals_per_day.head()\n"
   ]
  },
  {
   "cell_type": "markdown",
   "metadata": {
    "collapsed": true
   },
   "source": [
    "2. a. Our stations data has a huge number of quantitative attributes: fast_food, parking, restaurant, etc... Some of them are encoded as 0 or 1 (for absence or presence), others represent counts. To start with, run a simple linear regression where the input (x) variables are all the various station attributes and the output (y) variable is the average number of rentals per day."
   ]
  },
  {
   "cell_type": "code",
   "execution_count": 99,
   "metadata": {
    "collapsed": false
   },
   "outputs": [],
   "source": [
    "s = stations[['station']]\n",
    "u = pd.concat([usage['station_start']], axis=1, keys=['station'])\n",
    "counts = u['station'].value_counts()\n",
    "c = DataFrame(counts.index, columns=['station'])\n",
    "c['counts'] = counts.values\n",
    "c['counts'] = c['counts'].apply(lambda x: x / 366)\n",
    "m = pd.merge(s, c, on='station')\n",
    "stations_data = stations.merge(m, on='station')"
   ]
  },
  {
   "cell_type": "code",
   "execution_count": 100,
   "metadata": {
    "collapsed": false
   },
   "outputs": [],
   "source": [
    "df = DataFrame(stations_data.index, columns=['station'])\n",
    "df['avg_rentals'] = m[['counts']]\n",
    "df['station'] = m[['station']]\n",
    "stations_vals = pd.merge(left=df, right=stations, on='station')"
   ]
  },
  {
   "cell_type": "code",
   "execution_count": 101,
   "metadata": {
    "collapsed": false
   },
   "outputs": [
    {
     "data": {
      "text/plain": [
       "LinearRegression(copy_X=True, fit_intercept=True, n_jobs=1, normalize=False)"
      ]
     },
     "execution_count": 101,
     "metadata": {},
     "output_type": "execute_result"
    }
   ],
   "source": [
    "x = stations_vals[list(stations_vals.columns.values[8:])]\n",
    "y = stations_vals[list(stations_vals.columns.values[1:2])]\n",
    "linear_regression = linear_model.LinearRegression()\n",
    "linear_regression.fit(x, y)\n"
   ]
  },
  {
   "cell_type": "markdown",
   "metadata": {},
   "source": [
    "2. b. Plot the predicted values (model.predict(x)) against the actual values and see how they compare."
   ]
  },
  {
   "cell_type": "code",
   "execution_count": 102,
   "metadata": {
    "collapsed": false
   },
   "outputs": [
    {
     "data": {
      "image/png": "[encoded data removed]",
      "text/plain": [
       "<matplotlib.figure.Figure at 0x11a6eb510>"
      ]
     },
     "metadata": {},
     "output_type": "display_data"
    }
   ],
   "source": [
    "plt.scatter(linear_regression.predict(x), y)\n",
    "plt.xlabel('predicted values')\n",
    "plt.ylabel('actual values')\n",
    "plt.show()"
   ]
  },
  {
   "cell_type": "markdown",
   "metadata": {},
   "source": [
    "2. c. In this case, there are 129 input variables and only 185 rows which means we're very likely to overfit. Look at the model coefficients and see if anything jumps out as odd."
   ]
  },
  {
   "cell_type": "code",
   "execution_count": 103,
   "metadata": {
    "collapsed": false
   },
   "outputs": [
    {
     "data": {
      "text/plain": [
       "array([[  2.33163477e+00,  -2.58798372e-01,   7.38677614e-02,\n",
       "         -6.23427298e+01,   2.02686671e+00,  -4.16148234e+00,\n",
       "          5.55342631e+00,   1.78810014e+00,  -3.64436832e-01,\n",
       "          1.46056713e-12,   2.38199452e+00,   6.88744836e+01,\n",
       "          4.53635614e+00,  -1.04894937e-11,  -2.95916174e-12,\n",
       "          5.24210306e+00,  -6.00994500e-12,   4.39207876e+00,\n",
       "          9.26717502e+00,  -3.03514381e+00,   3.19641175e+00,\n",
       "         -3.75470868e+01,   2.78908576e+01,  -3.85399854e+01,\n",
       "         -1.58860736e+01,   2.17147435e+01,   1.50931200e+00,\n",
       "          3.01466161e+00,  -4.32875603e+00,   8.85951246e+00,\n",
       "          2.17147435e+01,  -2.71793215e-01,   3.44540930e+00,\n",
       "          1.28336434e+01,   4.84020690e+00,  -2.04169817e+00,\n",
       "         -3.45267737e+01,  -1.61959403e+01,   5.26641596e+00,\n",
       "          5.16406843e+00,   1.13106239e+01,  -5.95501207e+00,\n",
       "          1.47321423e+02,  -5.49234411e+00,  -1.29090263e+01,\n",
       "          1.82647435e+02,  -9.14848559e-02,   3.95779169e-01,\n",
       "         -6.87707451e+00,  -8.79545330e+00,   7.68222101e+01,\n",
       "          5.86840001e+00,  -6.82144585e+00,  -1.81890985e+01,\n",
       "          3.29939558e+01,   9.84610988e+00,   2.39896883e+01,\n",
       "          5.46618714e+01,   1.50521662e+01,   5.46288475e+00,\n",
       "          1.20106526e+01,  -1.81418486e+01,  -2.90273966e+00,\n",
       "         -2.48860730e+01,  -2.65368604e+01,   1.78832981e+01,\n",
       "         -2.55713270e+01,  -1.64291473e+01,  -1.65990282e+01,\n",
       "         -2.04710247e+01,   4.54623146e+01,  -8.51557316e+01,\n",
       "         -1.96379535e+01,   1.23740873e+01,   1.54615583e+00,\n",
       "          3.40789783e+01,   3.40789783e+01,  -1.43689678e+01,\n",
       "          3.71609277e+01,  -3.79488690e+00,  -3.79488690e+00,\n",
       "          1.00390599e+02,   5.26741753e-15,  -8.14645916e+00,\n",
       "          1.18039812e+01,   2.71335491e-02,   2.71335491e-02,\n",
       "         -1.11480614e+01,   4.28200683e-14,  -7.04519636e-15,\n",
       "          2.89463151e+01,   1.41436082e-14,   1.58308163e+01,\n",
       "         -4.92020800e+01,  -1.62320599e-15,   1.38050296e-14,\n",
       "         -5.94424353e-15,  -1.64519249e-14,   4.81269638e-15,\n",
       "          7.09583401e-15,  -8.31816655e-15,   2.10652855e-14,\n",
       "          4.46775687e-02,   3.52388526e-01,  -1.09254290e+00,\n",
       "         -5.89216326e-01,   4.04781121e+01,   0.00000000e+00,\n",
       "         -3.82194484e-01,  -4.82615546e+00,   3.25702981e+01,\n",
       "          1.23660306e+01,  -3.48964379e+01,  -5.39321341e+00,\n",
       "          1.71561409e+01,   0.00000000e+00,   3.78601422e+00,\n",
       "         -1.02153895e+00,  -1.90777295e+00,  -6.23585766e+00,\n",
       "         -1.09658842e+00,  -9.48229196e+01,   1.65238016e+00,\n",
       "         -2.21991544e+01,  -2.24617220e+00,  -1.84557760e+01,\n",
       "         -2.10465754e+01,  -3.37190472e+01,   7.18158688e+00]])"
      ]
     },
     "execution_count": 103,
     "metadata": {},
     "output_type": "execute_result"
    }
   ],
   "source": [
    "linear_regression.coef_"
   ]
  },
  {
   "cell_type": "markdown",
   "metadata": {},
   "source": [
    "Outlier coeeficents would be inacurate at predicting."
   ]
  },
  {
   "cell_type": "markdown",
   "metadata": {
    "collapsed": false
   },
   "source": [
    "2. d. Go back and split the data into a training set and a test set. Train the model on the training set and evaluate it on the test set. How does it do?"
   ]
  },
  {
   "cell_type": "code",
   "execution_count": 104,
   "metadata": {
    "collapsed": false
   },
   "outputs": [
    {
     "data": {
      "text/plain": [
       "LinearRegression(copy_X=True, fit_intercept=True, n_jobs=1, normalize=False)"
      ]
     },
     "execution_count": 104,
     "metadata": {},
     "output_type": "execute_result"
    }
   ],
   "source": [
    "x_train, x_test, y_train, y_test = train_test_split(x, y, test_size=0.33, random_state=42)\n",
    "lin_regr = linear_model.LinearRegression()\n",
    "lin_regr.fit(x_train, y_train)\n"
   ]
  },
  {
   "cell_type": "code",
   "execution_count": 105,
   "metadata": {
    "collapsed": false
   },
   "outputs": [
    {
     "data": {
      "image/png": "[encoded data removed]",
      "text/plain": [
       "<matplotlib.figure.Figure at 0x109439cd0>"
      ]
     },
     "metadata": {},
     "output_type": "display_data"
    }
   ],
   "source": [
    "plt.scatter(lin_regr.predict(x_test), y_test)\n",
    "plt.xlabel('predicted values')\n",
    "plt.ylabel('actual values')\n",
    "plt.show()"
   ]
  },
  {
   "cell_type": "code",
   "execution_count": 106,
   "metadata": {
    "collapsed": false
   },
   "outputs": [
    {
     "data": {
      "text/plain": [
       "<matplotlib.collections.PathCollection at 0x115bfb090>"
      ]
     },
     "execution_count": 106,
     "metadata": {},
     "output_type": "execute_result"
    },
    {
     "data": {
      "image/png": "[encoded data removed]",
      "text/plain": [
       "<matplotlib.figure.Figure at 0x115761690>"
      ]
     },
     "metadata": {},
     "output_type": "display_data"
    }
   ],
   "source": [
    "plt.scatter(y_test, lin_regr.predict(x_test) )"
   ]
  },
  {
   "cell_type": "markdown",
   "metadata": {},
   "source": [
    "Too many outliers. Would be innacurate."
   ]
  },
  {
   "cell_type": "markdown",
   "metadata": {},
   "source": [
    "3. a. Since we have so many variables, this is a good candidate for regularization. In particular, since we'd like to eliminate a lot of them, lasso seems like a good candidate. Build a lasso model on your training data for various values of alpha. Which variables survive?"
   ]
  },
  {
   "cell_type": "code",
   "execution_count": 107,
   "metadata": {
    "collapsed": false
   },
   "outputs": [
    {
     "data": {
      "text/plain": [
       "array([  2.5,  -1.7,   0.5,   0. ,  -3.8,  -0.2,   8. ,   0. ,  -0.1,\n",
       "         0. ,  -0.6,   0. ,  -1.1,   0. ,   0. ,   0. ,   0. ,  -4.9,\n",
       "         0. ,  -0.1,  -0.1,   6.9,   5.1, -10.6,  -0. ,  -0. ,  -3.1,\n",
       "         3.3,   7.2,   0.5,  -0. ,  -0. ,   1.7,   7.2,   3.5,   0. ,\n",
       "        -0. , -10.7,  -0. ,  -0. ,  -6.9,   3.4,  66.1,   2.1,  -5. ,\n",
       "        27.6,   6.6,  -1.1,  -0. ,  -0. ,  -0. ,  -0. ,  -0. ,   0. ,\n",
       "         1.7,   7.2,  23.1,   0. ,   0. ,   0. ,   1.1,   0. ,   0.5,\n",
       "         0. ,  -1.3,   0. ,   0. ,   1.1,   0. ,  -0. ,   0. ,  -0. ,\n",
       "       -13. ,   0. ,  -4.9,  -0.7,  -0. ,  -0. ,  -0. ,   0. ,   0. ,\n",
       "         0. ,   0. ,   0. ,   0. ,  -0. ,  -0. ,  -0. ,   0. ,   0. ,\n",
       "         0. ,   0. ,   0. ,   0. ,   0. ,   0. ,   0. ,   0. ,   0. ,\n",
       "         0. ,   0. ,   0. ,  -0.2,   0.4,  -1.9,  -0. ,  18.7,   0. ,\n",
       "        -1.1,  -3.5,   0. ,   2. , -10.2,  -0. ,   0. ,   0. ,  12.8,\n",
       "        -0.8,  -0. ,  -1.1,   0. ,   0. ,   2.1,   0. ,  -0. ,  -2.1,\n",
       "        -0. ,  -0. ,   0. ])"
      ]
     },
     "execution_count": 107,
     "metadata": {},
     "output_type": "execute_result"
    }
   ],
   "source": [
    "model = Lasso(alpha=.1)\n",
    "model.fit(x_train, y_train)\n",
    "np.round(model.coef_, 1)"
   ]
  },
  {
   "cell_type": "code",
   "execution_count": 108,
   "metadata": {
    "collapsed": false
   },
   "outputs": [
    {
     "data": {
      "text/plain": [
       "array([  1.3,  -1. ,   0.8,   0. ,  -1.7,  -0.7,   9. ,   8.9,  -0.1,\n",
       "         0. ,   0. ,   0. ,  -0. ,   0. ,   0. ,   0. ,   0. ,  -0. ,\n",
       "         0. ,  -0.7,  -0. ,   0. ,   0. ,  -0. ,  -0. ,  -0. ,  -5.2,\n",
       "         2.6,   8.7,   0. ,  -0. ,  -0. ,   0. ,   0. ,   2.4,   0. ,\n",
       "         0. ,  -7. ,  -0. ,  -0. ,  -0. ,   0. ,   0. ,   0. ,  -0. ,\n",
       "         0. ,   0. ,  -0. ,  -0. ,  -0. ,   0. ,  -0. ,  -0. ,   0. ,\n",
       "         0. ,   0. ,   8.2,   0. ,   0. ,   0. ,   0. ,  -0. ,  -0. ,\n",
       "         0. ,  -0. ,   0. ,   0. ,   0. ,   0. ,  -0. ,   0. ,  -0. ,\n",
       "        -0. ,  -0. ,  -0. ,  -0. ,  -0. ,  -0. ,  -0. ,   0. ,   0. ,\n",
       "         0. ,   0. ,   0. ,  -0. ,  -0. ,  -0. ,  -0. ,   0. ,   0. ,\n",
       "        -0. ,   0. ,  -0. ,   0. ,   0. ,   0. ,   0. ,   0. ,   0. ,\n",
       "         0. ,   0. ,   0. ,  -0.1,   0.4,  -0. ,   0. ,   0. ,   0. ,\n",
       "        -1.1,  -1.8,   0. ,   0. ,  -0. ,  -0. ,  -0. ,   0. ,  13.1,\n",
       "        -0.1,   0. ,  -0. ,   0. ,   0. ,   0. ,   0. ,  -0. ,  -0. ,\n",
       "        -0. ,  -0. ,  -0. ])"
      ]
     },
     "execution_count": 108,
     "metadata": {},
     "output_type": "execute_result"
    }
   ],
   "source": [
    "model = Lasso(alpha=.5)\n",
    "model.fit(x_train, y_train)\n",
    "np.round(model.coef_, 1)"
   ]
  },
  {
   "cell_type": "markdown",
   "metadata": {},
   "source": [
    "3. b. How does this model perform on the test set?"
   ]
  },
  {
   "cell_type": "code",
   "execution_count": 109,
   "metadata": {
    "collapsed": false
   },
   "outputs": [
    {
     "data": {
      "image/png": "[encoded data removed]",
      "text/plain": [
       "<matplotlib.figure.Figure at 0x114ba6410>"
      ]
     },
     "metadata": {},
     "output_type": "display_data"
    }
   ],
   "source": [
    "plt.scatter(lin_regr.predict(x_test), y_test)\n",
    "plt.xlabel('predicted values')\n",
    "plt.ylabel('actual values')\n",
    "plt.show()"
   ]
  },
  {
   "cell_type": "markdown",
   "metadata": {},
   "source": [
    "Better."
   ]
  },
  {
   "cell_type": "markdown",
   "metadata": {},
   "source": [
    "4. No matter how high I make alpha, the coefficient on crossing (\"number of nearby crosswalks\") never goes away. Try a simple linear regression on just that variable."
   ]
  },
  {
   "cell_type": "code",
   "execution_count": 110,
   "metadata": {
    "collapsed": false
   },
   "outputs": [
    {
     "data": {
      "text/plain": [
       "LinearRegression(copy_X=True, fit_intercept=True, n_jobs=1, normalize=False)"
      ]
     },
     "execution_count": 110,
     "metadata": {},
     "output_type": "execute_result"
    }
   ],
   "source": [
    "x = stations_vals[list(stations_vals.columns.values[111:112])]\n",
    "y = stations_vals[list(stations_vals.columns.values[1:2])]\n",
    "lin_regr = linear_model.LinearRegression()\n",
    "lin_regr.fit(x, y)"
   ]
  },
  {
   "cell_type": "code",
   "execution_count": 115,
   "metadata": {
    "collapsed": false
   },
   "outputs": [
    {
     "data": {
      "image/png": "[encoded data removed]",
      "text/plain": [
       "<matplotlib.figure.Figure at 0x1121d4e90>"
      ]
     },
     "metadata": {},
     "output_type": "display_data"
    }
   ],
   "source": [
    "plt.scatter(lin_regr.predict(x), y)\n",
    "plt.xlabel('predicted value')\n",
    "plt.ylabel('actual value')\n",
    "plt.show()"
   ]
  },
  {
   "cell_type": "code",
   "execution_count": null,
   "metadata": {
    "collapsed": false
   },
   "outputs": [],
   "source": [
    "\n"
   ]
  },
  {
   "cell_type": "code",
   "execution_count": null,
   "metadata": {
    "collapsed": true
   },
   "outputs": [],
   "source": []
  }
 ],
 "metadata": {
  "kernelspec": {
   "display_name": "Python 2",
   "language": "python",
   "name": "python2"
  },
  "language_info": {
   "codemirror_mode": {
    "name": "ipython",
    "version": 2
   },
   "file_extension": ".py",
   "mimetype": "text/x-python",
   "name": "python",
   "nbconvert_exporter": "python",
   "pygments_lexer": "ipython2",
   "version": "2.7.8"
  }
 },
 "nbformat": 4,
 "nbformat_minor": 0
}
